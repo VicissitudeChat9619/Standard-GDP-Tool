{
 "cells": [
  {
   "cell_type": "code",
   "execution_count": 1,
   "metadata": {},
   "outputs": [
    {
     "data": {
      "text/html": [
       "<div>\n",
       "<style scoped>\n",
       "    .dataframe tbody tr th:only-of-type {\n",
       "        vertical-align: middle;\n",
       "    }\n",
       "\n",
       "    .dataframe tbody tr th {\n",
       "        vertical-align: top;\n",
       "    }\n",
       "\n",
       "    .dataframe thead th {\n",
       "        text-align: right;\n",
       "    }\n",
       "</style>\n",
       "<table border=\"1\" class=\"dataframe\">\n",
       "  <thead>\n",
       "    <tr style=\"text-align: right;\">\n",
       "      <th></th>\n",
       "      <th>name</th>\n",
       "      <th>base cost</th>\n",
       "    </tr>\n",
       "  </thead>\n",
       "  <tbody>\n",
       "    <tr>\n",
       "      <th>0</th>\n",
       "      <td>软木</td>\n",
       "      <td>20</td>\n",
       "    </tr>\n",
       "    <tr>\n",
       "      <th>1</th>\n",
       "      <td>纸</td>\n",
       "      <td>30</td>\n",
       "    </tr>\n",
       "    <tr>\n",
       "      <th>2</th>\n",
       "      <td>食品</td>\n",
       "      <td>30</td>\n",
       "    </tr>\n",
       "    <tr>\n",
       "      <th>3</th>\n",
       "      <td>稻谷</td>\n",
       "      <td>20</td>\n",
       "    </tr>\n",
       "    <tr>\n",
       "      <th>4</th>\n",
       "      <td>家具</td>\n",
       "      <td>30</td>\n",
       "    </tr>\n",
       "  </tbody>\n",
       "</table>\n",
       "</div>"
      ],
      "text/plain": [
       "  name  base cost\n",
       "0   软木         20\n",
       "1    纸         30\n",
       "2   食品         30\n",
       "3   稻谷         20\n",
       "4   家具         30"
      ]
     },
     "execution_count": 1,
     "metadata": {},
     "output_type": "execute_result"
    }
   ],
   "source": [
    "import numpy as np\n",
    "import pandas as pd\n",
    "\n",
    "\n",
    "def fun(cost, num, N):\n",
    "    k = cost @ num / N\n",
    "    return k * 52\n",
    "\n",
    "\n",
    "base_cost = pd.read_excel(\"basecost.xlsx\")\n",
    "base_cost.head()"
   ]
  },
  {
   "cell_type": "code",
   "execution_count": 2,
   "metadata": {},
   "outputs": [],
   "source": [
    "column = base_cost.columns\n",
    "cost_name = list()\n",
    "cost_num = list()\n",
    "data = pd.DataFrame(columns=base_cost[\"name\"].values)"
   ]
  },
  {
   "cell_type": "code",
   "execution_count": 3,
   "metadata": {},
   "outputs": [],
   "source": [
    "data.loc[0] = list(range(len(data.columns)))\n",
    "answer = pd.read_excel(\"output.xlsx\")"
   ]
  },
  {
   "cell_type": "code",
   "execution_count": 4,
   "metadata": {},
   "outputs": [],
   "source": [
    "choice=[]"
   ]
  },
  {
   "cell_type": "code",
   "execution_count": 15,
   "metadata": {},
   "outputs": [
    {
     "name": "stdout",
     "output_type": "stream",
     "text": [
      "24.96\n"
     ]
    },
    {
     "data": {
      "text/html": [
       "<div>\n",
       "<style scoped>\n",
       "    .dataframe tbody tr th:only-of-type {\n",
       "        vertical-align: middle;\n",
       "    }\n",
       "\n",
       "    .dataframe tbody tr th {\n",
       "        vertical-align: top;\n",
       "    }\n",
       "\n",
       "    .dataframe thead th {\n",
       "        text-align: right;\n",
       "    }\n",
       "</style>\n",
       "<table border=\"1\" class=\"dataframe\">\n",
       "  <thead>\n",
       "    <tr style=\"text-align: right;\">\n",
       "      <th></th>\n",
       "      <th>Unnamed: 0</th>\n",
       "      <th>工具厂</th>\n",
       "      <th>钢铁厂</th>\n",
       "      <th>玻璃厂</th>\n",
       "      <th>造纸厂</th>\n",
       "      <th>硫厂</th>\n",
       "      <th>铅厂</th>\n",
       "      <th>炸药厂</th>\n",
       "      <th>肥料厂</th>\n",
       "      <th>纺织厂</th>\n",
       "      <th>...</th>\n",
       "      <th>染料种植园</th>\n",
       "      <th>小麦农场</th>\n",
       "      <th>茶叶种植园</th>\n",
       "      <th>畜牧场</th>\n",
       "      <th>烟草种植园</th>\n",
       "      <th>铁厂</th>\n",
       "      <th>煤炭厂</th>\n",
       "      <th>发动机厂</th>\n",
       "      <th>家具厂</th>\n",
       "      <th>食品厂</th>\n",
       "    </tr>\n",
       "  </thead>\n",
       "  <tbody>\n",
       "    <tr>\n",
       "      <th>0</th>\n",
       "      <td>0</td>\n",
       "      <td>16.64</td>\n",
       "      <td>15.6</td>\n",
       "      <td>14.56</td>\n",
       "      <td>19.76</td>\n",
       "      <td>20.28</td>\n",
       "      <td>14.04</td>\n",
       "      <td>13.52</td>\n",
       "      <td>15.6</td>\n",
       "      <td>12.48</td>\n",
       "      <td>...</td>\n",
       "      <td>10.4</td>\n",
       "      <td>6.24</td>\n",
       "      <td>11.05</td>\n",
       "      <td>6.24</td>\n",
       "      <td>11.05</td>\n",
       "      <td>14.04</td>\n",
       "      <td>12.48</td>\n",
       "      <td>9.36</td>\n",
       "      <td>17.68</td>\n",
       "      <td>11.44</td>\n",
       "    </tr>\n",
       "  </tbody>\n",
       "</table>\n",
       "<p>1 rows × 22 columns</p>\n",
       "</div>"
      ],
      "text/plain": [
       "   Unnamed: 0    工具厂   钢铁厂    玻璃厂    造纸厂     硫厂     铅厂    炸药厂   肥料厂    纺织厂  \\\n",
       "0           0  16.64  15.6  14.56  19.76  20.28  14.04  13.52  15.6  12.48   \n",
       "\n",
       "   ...  染料种植园  小麦农场  茶叶种植园   畜牧场  烟草种植园     铁厂    煤炭厂  发动机厂    家具厂    食品厂  \n",
       "0  ...   10.4  6.24  11.05  6.24  11.05  14.04  12.48  9.36  17.68  11.44  \n",
       "\n",
       "[1 rows x 22 columns]"
      ]
     },
     "execution_count": 15,
     "metadata": {},
     "output_type": "execute_result"
    }
   ],
   "source": [
    "name = \"武器厂\"\n",
    "num = [70,-10,-20,-10]\n",
    "cost_name = ['步枪','硬木','钢铁','工具']\n",
    "k = data[cost_name].values.flatten()\n",
    "cost = base_cost.iloc[k, 1].values\n",
    "ans = fun(cost, num, 5000)\n",
    "answer.loc[0, name] = ans\n",
    "print(ans)\n",
    "answer"
   ]
  },
  {
   "cell_type": "code",
   "execution_count": 6,
   "metadata": {},
   "outputs": [
    {
     "data": {
      "text/plain": [
       "0    15.6\n",
       "Name: 肥料厂, dtype: float64"
      ]
     },
     "execution_count": 6,
     "metadata": {},
     "output_type": "execute_result"
    }
   ],
   "source": [
    "answer['肥料厂'] "
   ]
  },
  {
   "cell_type": "code",
   "execution_count": 7,
   "metadata": {},
   "outputs": [
    {
     "data": {
      "text/plain": [
       "0    13.52\n",
       "Name: 炸药厂, dtype: float64"
      ]
     },
     "execution_count": 7,
     "metadata": {},
     "output_type": "execute_result"
    }
   ],
   "source": [
    "answer['炸药厂']"
   ]
  },
  {
   "cell_type": "code",
   "execution_count": 8,
   "metadata": {},
   "outputs": [
    {
     "data": {
      "text/plain": [
       "0    14.56\n",
       "Name: 玻璃厂, dtype: float64"
      ]
     },
     "execution_count": 8,
     "metadata": {},
     "output_type": "execute_result"
    }
   ],
   "source": [
    "answer['玻璃厂']"
   ]
  },
  {
   "cell_type": "code",
   "execution_count": 9,
   "metadata": {},
   "outputs": [
    {
     "data": {
      "text/plain": [
       "0    17.68\n",
       "Name: 家具厂, dtype: float64"
      ]
     },
     "execution_count": 9,
     "metadata": {},
     "output_type": "execute_result"
    }
   ],
   "source": [
    "answer['家具厂']"
   ]
  },
  {
   "cell_type": "code",
   "execution_count": 10,
   "metadata": {},
   "outputs": [
    {
     "data": {
      "text/plain": [
       "0    15.6\n",
       "Name: 钢铁厂, dtype: float64"
      ]
     },
     "execution_count": 10,
     "metadata": {},
     "output_type": "execute_result"
    }
   ],
   "source": [
    "answer['钢铁厂']"
   ]
  },
  {
   "cell_type": "code",
   "execution_count": 11,
   "metadata": {},
   "outputs": [
    {
     "data": {
      "text/plain": [
       "0    19.76\n",
       "Name: 造纸厂, dtype: float64"
      ]
     },
     "execution_count": 11,
     "metadata": {},
     "output_type": "execute_result"
    }
   ],
   "source": [
    "answer['造纸厂']"
   ]
  },
  {
   "cell_type": "code",
   "execution_count": 12,
   "metadata": {},
   "outputs": [
    {
     "data": {
      "text/plain": [
       "0    12.48\n",
       "Name: 纺织厂, dtype: float64"
      ]
     },
     "execution_count": 12,
     "metadata": {},
     "output_type": "execute_result"
    }
   ],
   "source": [
    "answer['纺织厂']"
   ]
  },
  {
   "cell_type": "code",
   "execution_count": 13,
   "metadata": {},
   "outputs": [
    {
     "data": {
      "text/plain": [
       "0    14.04\n",
       "Name: 铁厂, dtype: float64"
      ]
     },
     "execution_count": 13,
     "metadata": {},
     "output_type": "execute_result"
    }
   ],
   "source": [
    "answer['铁厂']"
   ]
  },
  {
   "cell_type": "code",
   "execution_count": 14,
   "metadata": {},
   "outputs": [
    {
     "data": {
      "text/plain": [
       "0    11.44\n",
       "Name: 食品厂, dtype: float64"
      ]
     },
     "execution_count": 14,
     "metadata": {},
     "output_type": "execute_result"
    }
   ],
   "source": [
    "answer['食品厂']"
   ]
  }
 ],
 "metadata": {
  "kernelspec": {
   "display_name": "Python 3",
   "language": "python",
   "name": "python3"
  },
  "language_info": {
   "codemirror_mode": {
    "name": "ipython",
    "version": 3
   },
   "file_extension": ".py",
   "mimetype": "text/x-python",
   "name": "python",
   "nbconvert_exporter": "python",
   "pygments_lexer": "ipython3",
   "version": "3.12.2"
  }
 },
 "nbformat": 4,
 "nbformat_minor": 2
}
